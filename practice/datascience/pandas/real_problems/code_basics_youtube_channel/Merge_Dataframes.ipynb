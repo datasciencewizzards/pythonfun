{
 "cells": [
  {
   "cell_type": "code",
   "execution_count": 20,
   "id": "designing-charger",
   "metadata": {},
   "outputs": [],
   "source": [
    "# Setup environment"
   ]
  },
  {
   "cell_type": "markdown",
   "id": "numerous-interview",
   "metadata": {},
   "source": [
    "##### https://www.youtube.com/watch?v=h4hOPGo4UVU&list=PLeo1K3hjS3uuASpe-1LjfG5f14Bnozjwy&index=9"
   ]
  },
  {
   "cell_type": "code",
   "execution_count": 4,
   "id": "accredited-excerpt",
   "metadata": {},
   "outputs": [],
   "source": [
    "import pandas as pd\n",
    "import numpy as np\n"
   ]
  },
  {
   "cell_type": "code",
   "execution_count": 6,
   "id": "centered-vegetation",
   "metadata": {},
   "outputs": [
    {
     "data": {
      "text/html": [
       "<div>\n",
       "<style scoped>\n",
       "    .dataframe tbody tr th:only-of-type {\n",
       "        vertical-align: middle;\n",
       "    }\n",
       "\n",
       "    .dataframe tbody tr th {\n",
       "        vertical-align: top;\n",
       "    }\n",
       "\n",
       "    .dataframe thead th {\n",
       "        text-align: right;\n",
       "    }\n",
       "</style>\n",
       "<table border=\"1\" class=\"dataframe\">\n",
       "  <thead>\n",
       "    <tr style=\"text-align: right;\">\n",
       "      <th></th>\n",
       "      <th>city</th>\n",
       "      <th>temprature</th>\n",
       "    </tr>\n",
       "  </thead>\n",
       "  <tbody>\n",
       "    <tr>\n",
       "      <th>0</th>\n",
       "      <td>New York</td>\n",
       "      <td>21</td>\n",
       "    </tr>\n",
       "    <tr>\n",
       "      <th>1</th>\n",
       "      <td>chicago</td>\n",
       "      <td>14</td>\n",
       "    </tr>\n",
       "    <tr>\n",
       "      <th>2</th>\n",
       "      <td>orlando</td>\n",
       "      <td>35</td>\n",
       "    </tr>\n",
       "  </tbody>\n",
       "</table>\n",
       "</div>"
      ],
      "text/plain": [
       "       city  temprature\n",
       "0  New York          21\n",
       "1   chicago          14\n",
       "2   orlando          35"
      ]
     },
     "execution_count": 6,
     "metadata": {},
     "output_type": "execute_result"
    }
   ],
   "source": [
    "df1 = pd.DataFrame({\n",
    "    'city':['New York','chicago','orlando'],\n",
    "    'temprature':[21,14,35]\n",
    "})\n",
    "df1"
   ]
  },
  {
   "cell_type": "code",
   "execution_count": 13,
   "id": "delayed-duncan",
   "metadata": {},
   "outputs": [
    {
     "data": {
      "text/html": [
       "<div>\n",
       "<style scoped>\n",
       "    .dataframe tbody tr th:only-of-type {\n",
       "        vertical-align: middle;\n",
       "    }\n",
       "\n",
       "    .dataframe tbody tr th {\n",
       "        vertical-align: top;\n",
       "    }\n",
       "\n",
       "    .dataframe thead th {\n",
       "        text-align: right;\n",
       "    }\n",
       "</style>\n",
       "<table border=\"1\" class=\"dataframe\">\n",
       "  <thead>\n",
       "    <tr style=\"text-align: right;\">\n",
       "      <th></th>\n",
       "      <th>city</th>\n",
       "      <th>humidity</th>\n",
       "    </tr>\n",
       "  </thead>\n",
       "  <tbody>\n",
       "    <tr>\n",
       "      <th>0</th>\n",
       "      <td>New York</td>\n",
       "      <td>65</td>\n",
       "    </tr>\n",
       "    <tr>\n",
       "      <th>1</th>\n",
       "      <td>chicago</td>\n",
       "      <td>68</td>\n",
       "    </tr>\n",
       "    <tr>\n",
       "      <th>2</th>\n",
       "      <td>orlando</td>\n",
       "      <td>75</td>\n",
       "    </tr>\n",
       "  </tbody>\n",
       "</table>\n",
       "</div>"
      ],
      "text/plain": [
       "       city  humidity\n",
       "0  New York        65\n",
       "1   chicago        68\n",
       "2   orlando        75"
      ]
     },
     "execution_count": 13,
     "metadata": {},
     "output_type": "execute_result"
    }
   ],
   "source": [
    "df2 = pd.DataFrame({\n",
    "    'city':['New York','chicago','orlando'],\n",
    "    'humidity':[65,68,75]\n",
    "})\n",
    "df2"
   ]
  },
  {
   "cell_type": "code",
   "execution_count": 15,
   "id": "brief-closing",
   "metadata": {},
   "outputs": [
    {
     "data": {
      "text/html": [
       "<div>\n",
       "<style scoped>\n",
       "    .dataframe tbody tr th:only-of-type {\n",
       "        vertical-align: middle;\n",
       "    }\n",
       "\n",
       "    .dataframe tbody tr th {\n",
       "        vertical-align: top;\n",
       "    }\n",
       "\n",
       "    .dataframe thead th {\n",
       "        text-align: right;\n",
       "    }\n",
       "</style>\n",
       "<table border=\"1\" class=\"dataframe\">\n",
       "  <thead>\n",
       "    <tr style=\"text-align: right;\">\n",
       "      <th></th>\n",
       "      <th>city</th>\n",
       "      <th>temprature</th>\n",
       "      <th>humidity</th>\n",
       "    </tr>\n",
       "  </thead>\n",
       "  <tbody>\n",
       "    <tr>\n",
       "      <th>0</th>\n",
       "      <td>New York</td>\n",
       "      <td>21</td>\n",
       "      <td>65</td>\n",
       "    </tr>\n",
       "    <tr>\n",
       "      <th>1</th>\n",
       "      <td>chicago</td>\n",
       "      <td>14</td>\n",
       "      <td>68</td>\n",
       "    </tr>\n",
       "    <tr>\n",
       "      <th>2</th>\n",
       "      <td>orlando</td>\n",
       "      <td>35</td>\n",
       "      <td>75</td>\n",
       "    </tr>\n",
       "  </tbody>\n",
       "</table>\n",
       "</div>"
      ],
      "text/plain": [
       "       city  temprature  humidity\n",
       "0  New York          21        65\n",
       "1   chicago          14        68\n",
       "2   orlando          35        75"
      ]
     },
     "execution_count": 15,
     "metadata": {},
     "output_type": "execute_result"
    }
   ],
   "source": [
    "# The merge functions takes the list of the datasets and the column onto the merge will be done\n",
    "\n",
    "df3 = pd.merge(df1,df2,on='city')\n",
    "\n",
    "df3"
   ]
  },
  {
   "cell_type": "code",
   "execution_count": 25,
   "id": "sized-playing",
   "metadata": {},
   "outputs": [
    {
     "name": "stdout",
     "output_type": "stream",
     "text": [
      "InnerJoin \n",
      "       city  temprature  humidity\n",
      "0  New York          21        65\n",
      "1   chicago          14        68\n",
      "OuterJoin \n",
      "            city  temprature  humidity\n",
      "0       New York        21.0      65.0\n",
      "1        chicago        14.0      68.0\n",
      "2        orlando        35.0       NaN\n",
      "3      baltimore        32.0       NaN\n",
      "4  san francisco         NaN      75.0\n",
      "Left join \n",
      "        city  temprature  humidity\n",
      "0   New York          21      65.0\n",
      "1    chicago          14      68.0\n",
      "2    orlando          35       NaN\n",
      "3  baltimore          32       NaN\n",
      "Right join \n",
      "            city  temprature  humidity\n",
      "0       New York        21.0        65\n",
      "1        chicago        14.0        68\n",
      "2  san francisco         NaN        75\n"
     ]
    }
   ],
   "source": [
    "# What happens the city listing has a mismatch ?\n",
    "df1 = pd.DataFrame({\n",
    "    'city':['New York','chicago','orlando','baltimore'],\n",
    "    'temprature':[21,14,35,32]\n",
    "})\n",
    "\n",
    "df2 = pd.DataFrame({\n",
    "    'city':['New York','chicago','san francisco'],\n",
    "    'humidity':[65,68,75]\n",
    "})\n",
    "\n",
    "# InnerJoin : intersection of both sets based on the join column\n",
    "df3 = pd.merge(df1,df2,on='city')\n",
    "\n",
    "print(f\"InnerJoin \\n{df3}\")\n",
    "# Have you figured out something? Behaving like database innerjoin\n",
    "\n",
    "#Outerjoin : Union of both the sets on a column, if the column is null; NaN will be written\n",
    "df3 = pd.merge(df1,df2,on='city',how='outer')\n",
    "\n",
    "print(f\"OuterJoin \\n{df3}\")\n",
    "\n",
    "#Left Join : All left values even those are null for the column; NaN will be written\n",
    "df3 = pd.merge(df1,df2,on='city',how='left')\n",
    "\n",
    "print(f\"Left join \\n{df3}\")\n",
    "\n",
    "#Right Join : All left values even those are null for the column; NaN will be written\n",
    "df3 = pd.merge(df1,df2,on='city',how='right')\n",
    "\n",
    "print(f\"Right join \\n{df3}\")\n"
   ]
  },
  {
   "cell_type": "code",
   "execution_count": 28,
   "id": "civic-behalf",
   "metadata": {},
   "outputs": [
    {
     "data": {
      "text/html": [
       "<div>\n",
       "<style scoped>\n",
       "    .dataframe tbody tr th:only-of-type {\n",
       "        vertical-align: middle;\n",
       "    }\n",
       "\n",
       "    .dataframe tbody tr th {\n",
       "        vertical-align: top;\n",
       "    }\n",
       "\n",
       "    .dataframe thead th {\n",
       "        text-align: right;\n",
       "    }\n",
       "</style>\n",
       "<table border=\"1\" class=\"dataframe\">\n",
       "  <thead>\n",
       "    <tr style=\"text-align: right;\">\n",
       "      <th></th>\n",
       "      <th>city</th>\n",
       "      <th>temprature</th>\n",
       "      <th>humidity</th>\n",
       "      <th>_merge</th>\n",
       "    </tr>\n",
       "  </thead>\n",
       "  <tbody>\n",
       "    <tr>\n",
       "      <th>0</th>\n",
       "      <td>New York</td>\n",
       "      <td>21.0</td>\n",
       "      <td>65.0</td>\n",
       "      <td>both</td>\n",
       "    </tr>\n",
       "    <tr>\n",
       "      <th>1</th>\n",
       "      <td>chicago</td>\n",
       "      <td>14.0</td>\n",
       "      <td>68.0</td>\n",
       "      <td>both</td>\n",
       "    </tr>\n",
       "    <tr>\n",
       "      <th>2</th>\n",
       "      <td>orlando</td>\n",
       "      <td>35.0</td>\n",
       "      <td>NaN</td>\n",
       "      <td>left_only</td>\n",
       "    </tr>\n",
       "    <tr>\n",
       "      <th>3</th>\n",
       "      <td>baltimore</td>\n",
       "      <td>32.0</td>\n",
       "      <td>NaN</td>\n",
       "      <td>left_only</td>\n",
       "    </tr>\n",
       "    <tr>\n",
       "      <th>4</th>\n",
       "      <td>san francisco</td>\n",
       "      <td>NaN</td>\n",
       "      <td>75.0</td>\n",
       "      <td>right_only</td>\n",
       "    </tr>\n",
       "  </tbody>\n",
       "</table>\n",
       "</div>"
      ],
      "text/plain": [
       "            city  temprature  humidity      _merge\n",
       "0       New York        21.0      65.0        both\n",
       "1        chicago        14.0      68.0        both\n",
       "2        orlando        35.0       NaN   left_only\n",
       "3      baltimore        32.0       NaN   left_only\n",
       "4  san francisco         NaN      75.0  right_only"
      ]
     },
     "execution_count": 28,
     "metadata": {},
     "output_type": "execute_result"
    }
   ],
   "source": [
    "# Sometimes its confusing that which value comes from which dataframe, espcially when \n",
    "# it is outer join\n",
    "# we can debug with a flag 'indicator=True'\n",
    "#Outerjoin : Union of both the sets on a column, if the column is null; NaN will be written\n",
    "df3 = pd.merge(df1,df2,on='city',how='outer',indicator=True)\n",
    "\n",
    "df3"
   ]
  }
 ],
 "metadata": {
  "kernelspec": {
   "display_name": "Python 3",
   "language": "python",
   "name": "python3"
  },
  "language_info": {
   "codemirror_mode": {
    "name": "ipython",
    "version": 3
   },
   "file_extension": ".py",
   "mimetype": "text/x-python",
   "name": "python",
   "nbconvert_exporter": "python",
   "pygments_lexer": "ipython3",
   "version": "3.8.2"
  }
 },
 "nbformat": 4,
 "nbformat_minor": 5
}
